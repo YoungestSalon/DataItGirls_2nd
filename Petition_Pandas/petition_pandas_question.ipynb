{
 "cells": [
  {
   "cell_type": "markdown",
   "metadata": {
    "colab_type": "text",
    "id": "BWRXPo-_L0z0"
   },
   "source": [
    "# Pandas로 국민청원 데이터 분석하기"
   ]
  },
  {
   "cell_type": "markdown",
   "metadata": {
    "colab_type": "text",
    "id": "qkj3qVhpL0z1"
   },
   "source": [
    "## Pandas와 NumPy를 import해 옵니다."
   ]
  },
  {
   "cell_type": "code",
   "execution_count": 1,
   "metadata": {
    "colab": {
     "autoexec": {
      "startup": false,
      "wait_interval": 0
     }
    },
    "colab_type": "code",
    "id": "jx82ePtfL0z2"
   },
   "outputs": [
    {
     "name": "stdout",
     "output_type": "stream",
     "text": [
      "0.20.1\n",
      "1.12.1\n"
     ]
    }
   ],
   "source": [
    "import pandas as pd\n",
    "from pandas.api.types import CategoricalDtype\n",
    "import numpy as np\n",
    "print(pd.__version__)\n",
    "print(np.__version__)"
   ]
  },
  {
   "cell_type": "markdown",
   "metadata": {
    "colab_type": "text",
    "id": "ExWPF1u_L0z5"
   },
   "source": [
    "## csv 데이터를 불러 옵니다."
   ]
  },
  {
   "cell_type": "code",
   "execution_count": 3,
   "metadata": {
    "colab": {
     "autoexec": {
      "startup": false,
      "wait_interval": 0
     }
    },
    "colab_type": "code",
    "collapsed": true,
    "id": "Bwnpqy_NL0z5"
   },
   "outputs": [],
   "source": [
    "df = pd.read_csv('https://s3.ap-northeast-2.amazonaws.com/data10902/petition/petition.csv', parse_dates=['start', 'end'])"
   ]
  },
  {
   "cell_type": "markdown",
   "metadata": {
    "colab_type": "text",
    "id": "0ZzV5mq8L0z8"
   },
   "source": [
    "## 읽어온 데이터가 몇 행 몇 열인지 봅니다."
   ]
  },
  {
   "cell_type": "code",
   "execution_count": 4,
   "metadata": {
    "colab": {
     "autoexec": {
      "startup": false,
      "wait_interval": 0
     }
    },
    "colab_type": "code",
    "id": "W6XB6LetL0z9"
   },
   "outputs": [
    {
     "data": {
      "text/plain": [
       "(210424, 8)"
      ]
     },
     "execution_count": 4,
     "metadata": {},
     "output_type": "execute_result"
    }
   ],
   "source": [
    "df.shape"
   ]
  },
  {
   "cell_type": "markdown",
   "metadata": {
    "colab_type": "text",
    "id": "WRWVyOagL0z_"
   },
   "source": [
    "## 일부 데이터 미리 보기\n",
    "* 상단 5개의 데이터를 불러옵니다."
   ]
  },
  {
   "cell_type": "code",
   "execution_count": 6,
   "metadata": {
    "colab": {
     "autoexec": {
      "startup": false,
      "wait_interval": 0
     }
    },
    "colab_type": "code",
    "id": "mBwTlTrrL00A"
   },
   "outputs": [
    {
     "data": {
      "text/html": [
       "<div>\n",
       "<style>\n",
       "    .dataframe thead tr:only-child th {\n",
       "        text-align: right;\n",
       "    }\n",
       "\n",
       "    .dataframe thead th {\n",
       "        text-align: left;\n",
       "    }\n",
       "\n",
       "    .dataframe tbody tr th {\n",
       "        vertical-align: top;\n",
       "    }\n",
       "</style>\n",
       "<table border=\"1\" class=\"dataframe\">\n",
       "  <thead>\n",
       "    <tr style=\"text-align: right;\">\n",
       "      <th></th>\n",
       "      <th>article_id</th>\n",
       "      <th>start</th>\n",
       "      <th>end</th>\n",
       "      <th>answered</th>\n",
       "      <th>votes</th>\n",
       "      <th>category</th>\n",
       "      <th>title</th>\n",
       "      <th>content</th>\n",
       "    </tr>\n",
       "  </thead>\n",
       "  <tbody>\n",
       "    <tr>\n",
       "      <th>0</th>\n",
       "      <td>21</td>\n",
       "      <td>2017-08-19</td>\n",
       "      <td>2017-11-17</td>\n",
       "      <td>0</td>\n",
       "      <td>9</td>\n",
       "      <td>안전/환경</td>\n",
       "      <td>스텔라 데이지호에 대한 제안입니다.</td>\n",
       "      <td>스텔라 데이지호에 대한 제안입니다.\\n3월31일 스텔라 데이지호가 침몰하고 5달째가...</td>\n",
       "    </tr>\n",
       "    <tr>\n",
       "      <th>1</th>\n",
       "      <td>22</td>\n",
       "      <td>2017-08-19</td>\n",
       "      <td>2017-11-17</td>\n",
       "      <td>0</td>\n",
       "      <td>17</td>\n",
       "      <td>기타</td>\n",
       "      <td>비리제보처를 만들어주세요.</td>\n",
       "      <td>현 정부에 국민들이 가장 원하는 것은 부패척결입니다.  우리 사회에 각종 비리들이 ...</td>\n",
       "    </tr>\n",
       "    <tr>\n",
       "      <th>2</th>\n",
       "      <td>23</td>\n",
       "      <td>2017-08-19</td>\n",
       "      <td>2017-09-03</td>\n",
       "      <td>0</td>\n",
       "      <td>0</td>\n",
       "      <td>미래</td>\n",
       "      <td>제2의 개성공단</td>\n",
       "      <td>만일 하시는 대통령님 및 각 부처 장관님,주무관님들 안녕하세요!!\\n전남 목포에서 ...</td>\n",
       "    </tr>\n",
       "    <tr>\n",
       "      <th>3</th>\n",
       "      <td>24</td>\n",
       "      <td>2017-08-19</td>\n",
       "      <td>2017-08-26</td>\n",
       "      <td>0</td>\n",
       "      <td>53</td>\n",
       "      <td>일자리</td>\n",
       "      <td>공공기관 무조건적인 정규직전환을 반대합니다.</td>\n",
       "      <td>현정부에서 정규직 일자리를 늘리는 것에 찬성합니다. 그런데 공공기관 비정규직들은 인...</td>\n",
       "    </tr>\n",
       "    <tr>\n",
       "      <th>4</th>\n",
       "      <td>25</td>\n",
       "      <td>2017-08-19</td>\n",
       "      <td>2017-09-03</td>\n",
       "      <td>0</td>\n",
       "      <td>0</td>\n",
       "      <td>미래</td>\n",
       "      <td>제2의 개성공단</td>\n",
       "      <td>만일 하시는 대통령님 및 각 부처 장관님,주무관님들 안녕하세요!!\\n전남 목포에서 ...</td>\n",
       "    </tr>\n",
       "  </tbody>\n",
       "</table>\n",
       "</div>"
      ],
      "text/plain": [
       "   article_id      start        end  answered  votes category  \\\n",
       "0          21 2017-08-19 2017-11-17         0      9    안전/환경   \n",
       "1          22 2017-08-19 2017-11-17         0     17       기타   \n",
       "2          23 2017-08-19 2017-09-03         0      0       미래   \n",
       "3          24 2017-08-19 2017-08-26         0     53      일자리   \n",
       "4          25 2017-08-19 2017-09-03         0      0       미래   \n",
       "\n",
       "                      title                                            content  \n",
       "0       스텔라 데이지호에 대한 제안입니다.  스텔라 데이지호에 대한 제안입니다.\\n3월31일 스텔라 데이지호가 침몰하고 5달째가...  \n",
       "1            비리제보처를 만들어주세요.  현 정부에 국민들이 가장 원하는 것은 부패척결입니다.  우리 사회에 각종 비리들이 ...  \n",
       "2                  제2의 개성공단  만일 하시는 대통령님 및 각 부처 장관님,주무관님들 안녕하세요!!\\n전남 목포에서 ...  \n",
       "3  공공기관 무조건적인 정규직전환을 반대합니다.  현정부에서 정규직 일자리를 늘리는 것에 찬성합니다. 그런데 공공기관 비정규직들은 인...  \n",
       "4                  제2의 개성공단  만일 하시는 대통령님 및 각 부처 장관님,주무관님들 안녕하세요!!\\n전남 목포에서 ...  "
      ]
     },
     "execution_count": 6,
     "metadata": {},
     "output_type": "execute_result"
    }
   ],
   "source": [
    "df.head()"
   ]
  },
  {
   "cell_type": "markdown",
   "metadata": {
    "colab_type": "text",
    "id": "j3Ja6ir4L00C"
   },
   "source": [
    "* 하단 3개의 데이터를 불러옵니다."
   ]
  },
  {
   "cell_type": "code",
   "execution_count": 7,
   "metadata": {
    "colab": {
     "autoexec": {
      "startup": false,
      "wait_interval": 0
     }
    },
    "colab_type": "code",
    "id": "WYC4TUL-L00D"
   },
   "outputs": [
    {
     "data": {
      "text/html": [
       "<div>\n",
       "<style>\n",
       "    .dataframe thead tr:only-child th {\n",
       "        text-align: right;\n",
       "    }\n",
       "\n",
       "    .dataframe thead th {\n",
       "        text-align: left;\n",
       "    }\n",
       "\n",
       "    .dataframe tbody tr th {\n",
       "        vertical-align: top;\n",
       "    }\n",
       "</style>\n",
       "<table border=\"1\" class=\"dataframe\">\n",
       "  <thead>\n",
       "    <tr style=\"text-align: right;\">\n",
       "      <th></th>\n",
       "      <th>article_id</th>\n",
       "      <th>start</th>\n",
       "      <th>end</th>\n",
       "      <th>answered</th>\n",
       "      <th>votes</th>\n",
       "      <th>category</th>\n",
       "      <th>title</th>\n",
       "      <th>content</th>\n",
       "    </tr>\n",
       "  </thead>\n",
       "  <tbody>\n",
       "    <tr>\n",
       "      <th>210421</th>\n",
       "      <td>271765</td>\n",
       "      <td>2018-06-15</td>\n",
       "      <td>2018-07-15</td>\n",
       "      <td>0</td>\n",
       "      <td>3</td>\n",
       "      <td>일자리</td>\n",
       "      <td>판교 롯데마트에서</td>\n",
       "      <td>모 음식코너에서  시식을  위해  주 5일  일하는  50대  여성  알바  근로자...</td>\n",
       "    </tr>\n",
       "    <tr>\n",
       "      <th>210422</th>\n",
       "      <td>271766</td>\n",
       "      <td>2018-06-15</td>\n",
       "      <td>2018-07-15</td>\n",
       "      <td>0</td>\n",
       "      <td>12</td>\n",
       "      <td>인권/성평등</td>\n",
       "      <td>여탕에 남자아이들이 들어오자못하게 해주세요.</td>\n",
       "      <td>안녕하세요.청원자입니다.저는 보다시피 고 2입니다. 제가 어제 목욕탕(사우나)를 같...</td>\n",
       "    </tr>\n",
       "    <tr>\n",
       "      <th>210423</th>\n",
       "      <td>271767</td>\n",
       "      <td>2018-06-15</td>\n",
       "      <td>2018-07-15</td>\n",
       "      <td>0</td>\n",
       "      <td>2</td>\n",
       "      <td>미래</td>\n",
       "      <td>인천과 강원도 원주와 태백에도 중앙정부행정기관 청사를 설치해주세요</td>\n",
       "      <td>인천광역시 서구 원창동과 강원도 원주시 무실동과 강원도 정선에도 강원도 태백시 동점...</td>\n",
       "    </tr>\n",
       "  </tbody>\n",
       "</table>\n",
       "</div>"
      ],
      "text/plain": [
       "        article_id      start        end  answered  votes category  \\\n",
       "210421      271765 2018-06-15 2018-07-15         0      3      일자리   \n",
       "210422      271766 2018-06-15 2018-07-15         0     12   인권/성평등   \n",
       "210423      271767 2018-06-15 2018-07-15         0      2       미래   \n",
       "\n",
       "                                       title  \\\n",
       "210421                             판교 롯데마트에서   \n",
       "210422              여탕에 남자아이들이 들어오자못하게 해주세요.   \n",
       "210423  인천과 강원도 원주와 태백에도 중앙정부행정기관 청사를 설치해주세요   \n",
       "\n",
       "                                                  content  \n",
       "210421  모 음식코너에서  시식을  위해  주 5일  일하는  50대  여성  알바  근로자...  \n",
       "210422  안녕하세요.청원자입니다.저는 보다시피 고 2입니다. 제가 어제 목욕탕(사우나)를 같...  \n",
       "210423  인천광역시 서구 원창동과 강원도 원주시 무실동과 강원도 정선에도 강원도 태백시 동점...  "
      ]
     },
     "execution_count": 7,
     "metadata": {},
     "output_type": "execute_result"
    }
   ],
   "source": [
    "df.tail(3)"
   ]
  },
  {
   "cell_type": "code",
   "execution_count": 38,
   "metadata": {},
   "outputs": [
    {
     "name": "stdout",
     "output_type": "stream",
     "text": [
      "<class 'pandas.core.frame.DataFrame'>\n",
      "RangeIndex: 210424 entries, 0 to 210423\n",
      "Data columns (total 8 columns):\n",
      "article_id    210424 non-null int64\n",
      "start         210424 non-null datetime64[ns]\n",
      "end           210424 non-null datetime64[ns]\n",
      "answered      210424 non-null int64\n",
      "votes         210424 non-null int64\n",
      "category      210424 non-null object\n",
      "title         210424 non-null object\n",
      "content       210423 non-null object\n",
      "dtypes: datetime64[ns](2), int64(3), object(3)\n",
      "memory usage: 12.8+ MB\n"
     ]
    }
   ],
   "source": [
    "df.info()"
   ]
  },
  {
   "cell_type": "markdown",
   "metadata": {
    "colab_type": "text",
    "id": "5XTcJNiYL00F"
   },
   "source": [
    "## 결측치가 있는지 확인해 봅니다."
   ]
  },
  {
   "cell_type": "code",
   "execution_count": 40,
   "metadata": {
    "colab": {
     "autoexec": {
      "startup": false,
      "wait_interval": 0
     }
    },
    "colab_type": "code",
    "id": "qG5GYQ2QL00F"
   },
   "outputs": [
    {
     "data": {
      "text/plain": [
       "article_id    0\n",
       "start         0\n",
       "end           0\n",
       "answered      0\n",
       "votes         0\n",
       "category      0\n",
       "title         0\n",
       "content       1\n",
       "dtype: int64"
      ]
     },
     "execution_count": 40,
     "metadata": {},
     "output_type": "execute_result"
    }
   ],
   "source": [
    "df.isnull().sum()"
   ]
  },
  {
   "cell_type": "markdown",
   "metadata": {
    "colab_type": "text",
    "id": "ukq6fBMsL00H"
   },
   "source": [
    "## 데이터 요약하기\n",
    "* 어떤 컬럼이 있고 어떤 타입인지 출력해 봅니다."
   ]
  },
  {
   "cell_type": "code",
   "execution_count": 41,
   "metadata": {
    "colab": {
     "autoexec": {
      "startup": false,
      "wait_interval": 0
     }
    },
    "colab_type": "code",
    "id": "vp82OHdLL00I"
   },
   "outputs": [
    {
     "name": "stdout",
     "output_type": "stream",
     "text": [
      "<class 'pandas.core.frame.DataFrame'>\n",
      "RangeIndex: 210424 entries, 0 to 210423\n",
      "Data columns (total 8 columns):\n",
      "article_id    210424 non-null int64\n",
      "start         210424 non-null datetime64[ns]\n",
      "end           210424 non-null datetime64[ns]\n",
      "answered      210424 non-null int64\n",
      "votes         210424 non-null int64\n",
      "category      210424 non-null object\n",
      "title         210424 non-null object\n",
      "content       210423 non-null object\n",
      "dtypes: datetime64[ns](2), int64(3), object(3)\n",
      "memory usage: 12.8+ MB\n"
     ]
    }
   ],
   "source": [
    "df.info()"
   ]
  },
  {
   "cell_type": "markdown",
   "metadata": {
    "colab_type": "text",
    "id": "fq4LLn_nL00L"
   },
   "source": [
    "* 데이터 타입만 따로 뽑아 봅니다."
   ]
  },
  {
   "cell_type": "code",
   "execution_count": 44,
   "metadata": {
    "colab": {
     "autoexec": {
      "startup": false,
      "wait_interval": 0
     }
    },
    "colab_type": "code",
    "id": "5iE7ZI25L00M"
   },
   "outputs": [
    {
     "data": {
      "text/plain": [
       "article_id             int64\n",
       "start         datetime64[ns]\n",
       "end           datetime64[ns]\n",
       "answered               int64\n",
       "votes                  int64\n",
       "category              object\n",
       "title                 object\n",
       "content               object\n",
       "dtype: object"
      ]
     },
     "execution_count": 44,
     "metadata": {},
     "output_type": "execute_result"
    }
   ],
   "source": [
    "df.dtypes"
   ]
  },
  {
   "cell_type": "markdown",
   "metadata": {
    "colab_type": "text",
    "id": "JmMAtvYiL00O"
   },
   "source": [
    "* 컬럼명만 따로 추출해 봅니다."
   ]
  },
  {
   "cell_type": "code",
   "execution_count": 45,
   "metadata": {
    "colab": {
     "autoexec": {
      "startup": false,
      "wait_interval": 0
     }
    },
    "colab_type": "code",
    "id": "IlBggubIL00Q"
   },
   "outputs": [
    {
     "data": {
      "text/plain": [
       "Index(['article_id', 'start', 'end', 'answered', 'votes', 'category', 'title',\n",
       "       'content'],\n",
       "      dtype='object')"
      ]
     },
     "execution_count": 45,
     "metadata": {},
     "output_type": "execute_result"
    }
   ],
   "source": [
    "df.columns"
   ]
  },
  {
   "cell_type": "markdown",
   "metadata": {
    "colab_type": "text",
    "id": "lI_z0KlbL00R"
   },
   "source": [
    "* 수치형 데이터에 대한 요약을 봅니다."
   ]
  },
  {
   "cell_type": "code",
   "execution_count": 49,
   "metadata": {
    "colab": {
     "autoexec": {
      "startup": false,
      "wait_interval": 0
     }
    },
    "colab_type": "code",
    "id": "64okEm2RL00R"
   },
   "outputs": [
    {
     "data": {
      "text/html": [
       "<div>\n",
       "<style>\n",
       "    .dataframe thead tr:only-child th {\n",
       "        text-align: right;\n",
       "    }\n",
       "\n",
       "    .dataframe thead th {\n",
       "        text-align: left;\n",
       "    }\n",
       "\n",
       "    .dataframe tbody tr th {\n",
       "        vertical-align: top;\n",
       "    }\n",
       "</style>\n",
       "<table border=\"1\" class=\"dataframe\">\n",
       "  <thead>\n",
       "    <tr style=\"text-align: right;\">\n",
       "      <th></th>\n",
       "      <th>category</th>\n",
       "      <th>title</th>\n",
       "      <th>content</th>\n",
       "    </tr>\n",
       "  </thead>\n",
       "  <tbody>\n",
       "    <tr>\n",
       "      <th>count</th>\n",
       "      <td>210424</td>\n",
       "      <td>210424</td>\n",
       "      <td>210423</td>\n",
       "    </tr>\n",
       "    <tr>\n",
       "      <th>unique</th>\n",
       "      <td>17</td>\n",
       "      <td>175539</td>\n",
       "      <td>195348</td>\n",
       "    </tr>\n",
       "    <tr>\n",
       "      <th>top</th>\n",
       "      <td>정치개혁</td>\n",
       "      <td>이명박 출국금지</td>\n",
       "      <td>이명박 출국금지</td>\n",
       "    </tr>\n",
       "    <tr>\n",
       "      <th>freq</th>\n",
       "      <td>38835</td>\n",
       "      <td>3018</td>\n",
       "      <td>597</td>\n",
       "    </tr>\n",
       "  </tbody>\n",
       "</table>\n",
       "</div>"
      ],
      "text/plain": [
       "       category     title   content\n",
       "count    210424    210424    210423\n",
       "unique       17    175539    195348\n",
       "top        정치개혁  이명박 출국금지  이명박 출국금지\n",
       "freq      38835      3018       597"
      ]
     },
     "execution_count": 49,
     "metadata": {},
     "output_type": "execute_result"
    }
   ],
   "source": [
    "# df.describe()\n",
    "# df.describe(include = 'all')\n",
    "\n",
    "# 국민청원에서 가장 많이 나온 단어는?\n",
    "df.describe(include = [np.object]) "
   ]
  },
  {
   "cell_type": "markdown",
   "metadata": {
    "colab_type": "text",
    "id": "NfibRL_2L00Z"
   },
   "source": [
    "## 답변대상 청원 보기\n",
    "20만건 이상 투표를 받으면 답변 대상 청원이 됩니다.<br/>20만건 이상 투표를 받은 청원의 갯수를 세어보세요."
   ]
  },
  {
   "cell_type": "code",
   "execution_count": 67,
   "metadata": {
    "colab": {
     "autoexec": {
      "startup": false,
      "wait_interval": 0
     }
    },
    "colab_type": "code",
    "id": "vTJeNTDCL00b"
   },
   "outputs": [
    {
     "data": {
      "text/plain": [
       "(43, 8)"
      ]
     },
     "execution_count": 67,
     "metadata": {},
     "output_type": "execute_result"
    }
   ],
   "source": [
    "# 이거는 내가 작성한 코드...\n",
    "# df['title'].str\n",
    "# answer = df[ df.votes > 200000  ]\n",
    "# answer.shape\n",
    "\n",
    "answer = df.loc[df['votes'] > 200000]\n",
    "answer.shape"
   ]
  },
  {
   "cell_type": "markdown",
   "metadata": {
    "colab_type": "text",
    "id": "9PKBVxXdL00e"
   },
   "source": [
    "* 20만건 이상 투표를 받은 상위 5개의 청원을 head()를 통해 출력해 보세요."
   ]
  },
  {
   "cell_type": "code",
   "execution_count": 70,
   "metadata": {
    "colab": {
     "autoexec": {
      "startup": false,
      "wait_interval": 0
     }
    },
    "colab_type": "code",
    "id": "TD5A2pn2L00e"
   },
   "outputs": [
    {
     "data": {
      "text/html": [
       "<div>\n",
       "<style>\n",
       "    .dataframe thead tr:only-child th {\n",
       "        text-align: right;\n",
       "    }\n",
       "\n",
       "    .dataframe thead th {\n",
       "        text-align: left;\n",
       "    }\n",
       "\n",
       "    .dataframe tbody tr th {\n",
       "        vertical-align: top;\n",
       "    }\n",
       "</style>\n",
       "<table border=\"1\" class=\"dataframe\">\n",
       "  <thead>\n",
       "    <tr style=\"text-align: right;\">\n",
       "      <th></th>\n",
       "      <th>article_id</th>\n",
       "      <th>start</th>\n",
       "      <th>end</th>\n",
       "      <th>answered</th>\n",
       "      <th>votes</th>\n",
       "      <th>category</th>\n",
       "      <th>title</th>\n",
       "      <th>content</th>\n",
       "    </tr>\n",
       "  </thead>\n",
       "  <tbody>\n",
       "    <tr>\n",
       "      <th>208597</th>\n",
       "      <td>269548</td>\n",
       "      <td>2018-06-13</td>\n",
       "      <td>2018-07-13</td>\n",
       "      <td>0</td>\n",
       "      <td>714875</td>\n",
       "      <td>외교/통일/국방</td>\n",
       "      <td>제주도 불법 난민 신청 문제에 따른 난민법, 무사증 입국, 난민신청허가 폐지/개헌 ...</td>\n",
       "      <td>2012년 난민법 제정으로 인해 외국인은 한달 무비자로 입국할 수 있으나 난민신청자...</td>\n",
       "    </tr>\n",
       "    <tr>\n",
       "      <th>10894</th>\n",
       "      <td>10949</td>\n",
       "      <td>2017-09-06</td>\n",
       "      <td>2017-12-05</td>\n",
       "      <td>1</td>\n",
       "      <td>615354</td>\n",
       "      <td>미래</td>\n",
       "      <td>조두순 출소반대</td>\n",
       "      <td>제발 조두순 재심다시해서 무기징역으로 해야됩니다!!!</td>\n",
       "    </tr>\n",
       "    <tr>\n",
       "      <th>118970</th>\n",
       "      <td>142600</td>\n",
       "      <td>2018-02-19</td>\n",
       "      <td>2018-03-21</td>\n",
       "      <td>1</td>\n",
       "      <td>614127</td>\n",
       "      <td>문화/예술/체육/언론</td>\n",
       "      <td>김보름, 박지우 선수의 자격박탈과 적폐 빙상연맹의 엄중 처벌을 청원합니다</td>\n",
       "      <td>오늘 여자 단체전 팀추월에서 김보름, 박지우 선수는 팀전인데도 불구하고 개인의 영달...</td>\n",
       "    </tr>\n",
       "    <tr>\n",
       "      <th>183791</th>\n",
       "      <td>230552</td>\n",
       "      <td>2018-05-11</td>\n",
       "      <td>2018-06-10</td>\n",
       "      <td>1</td>\n",
       "      <td>419006</td>\n",
       "      <td>인권/성평등</td>\n",
       "      <td>여성도 대한민국 국민입니다. 성별 관계없는 국가의 보호를 요청합니다.</td>\n",
       "      <td>최근 홍대 누드크로키 모델의 불법촬영 사건이 있었습니다.\\n사건은 굉장히 빠르게 처...</td>\n",
       "    </tr>\n",
       "    <tr>\n",
       "      <th>91882</th>\n",
       "      <td>105105</td>\n",
       "      <td>2018-01-20</td>\n",
       "      <td>2018-02-19</td>\n",
       "      <td>1</td>\n",
       "      <td>360905</td>\n",
       "      <td>외교/통일/국방</td>\n",
       "      <td>나경원 의원 평창올림픽 위원직을 파면시켜주세요</td>\n",
       "      <td>안녕하세요. 청와대에 청원은 처음해 보는 경험인지라 조금은 어색하고 뭐라 말을 시작...</td>\n",
       "    </tr>\n",
       "  </tbody>\n",
       "</table>\n",
       "</div>"
      ],
      "text/plain": [
       "        article_id      start        end  answered   votes     category  \\\n",
       "208597      269548 2018-06-13 2018-07-13         0  714875     외교/통일/국방   \n",
       "10894        10949 2017-09-06 2017-12-05         1  615354           미래   \n",
       "118970      142600 2018-02-19 2018-03-21         1  614127  문화/예술/체육/언론   \n",
       "183791      230552 2018-05-11 2018-06-10         1  419006       인권/성평등   \n",
       "91882       105105 2018-01-20 2018-02-19         1  360905     외교/통일/국방   \n",
       "\n",
       "                                                    title  \\\n",
       "208597  제주도 불법 난민 신청 문제에 따른 난민법, 무사증 입국, 난민신청허가 폐지/개헌 ...   \n",
       "10894                                            조두순 출소반대   \n",
       "118970           김보름, 박지우 선수의 자격박탈과 적폐 빙상연맹의 엄중 처벌을 청원합니다   \n",
       "183791             여성도 대한민국 국민입니다. 성별 관계없는 국가의 보호를 요청합니다.   \n",
       "91882                           나경원 의원 평창올림픽 위원직을 파면시켜주세요   \n",
       "\n",
       "                                                  content  \n",
       "208597  2012년 난민법 제정으로 인해 외국인은 한달 무비자로 입국할 수 있으나 난민신청자...  \n",
       "10894                       제발 조두순 재심다시해서 무기징역으로 해야됩니다!!!  \n",
       "118970  오늘 여자 단체전 팀추월에서 김보름, 박지우 선수는 팀전인데도 불구하고 개인의 영달...  \n",
       "183791  최근 홍대 누드크로키 모델의 불법촬영 사건이 있었습니다.\\n사건은 굉장히 빠르게 처...  \n",
       "91882   안녕하세요. 청와대에 청원은 처음해 보는 경험인지라 조금은 어색하고 뭐라 말을 시작...  "
      ]
     },
     "execution_count": 70,
     "metadata": {},
     "output_type": "execute_result"
    }
   ],
   "source": [
    "answer.sort_values(by = 'votes', ascending = False).head(5)"
   ]
  },
  {
   "cell_type": "markdown",
   "metadata": {
    "colab_type": "text",
    "id": "A7NRKs9UL00h"
   },
   "source": [
    "* 20만건 이상 투표를 받은 청원을 별도의 컬럼을 만들어 줍니다. 컬럼 이름은 `answer`로 합니다."
   ]
  },
  {
   "cell_type": "code",
   "execution_count": 0,
   "metadata": {
    "colab": {
     "autoexec": {
      "startup": false,
      "wait_interval": 0
     }
    },
    "colab_type": "code",
    "collapsed": true,
    "id": "NxP_sVmvL00h"
   },
   "outputs": [],
   "source": [
    "df['answer'] = (df['votes'] > 200000) == 1"
   ]
  },
  {
   "cell_type": "markdown",
   "metadata": {
    "colab_type": "text",
    "id": "JJcV4eKUL00j"
   },
   "source": [
    "* df 데이터프레임의 크기를 다시 찍어 보세요. 컬럼 하나가 늘었나요?"
   ]
  },
  {
   "cell_type": "code",
   "execution_count": 0,
   "metadata": {
    "colab": {
     "autoexec": {
      "startup": false,
      "wait_interval": 0
     }
    },
    "colab_type": "code",
    "collapsed": true,
    "id": "-WfrNCqBL00k"
   },
   "outputs": [],
   "source": []
  },
  {
   "cell_type": "markdown",
   "metadata": {
    "colab_type": "text",
    "id": "7qt5lHq9L00m"
   },
   "source": [
    "* 새로 생성해 준 answer의 타입은 boolean 타입입니다. int로 변경해 보세요."
   ]
  },
  {
   "cell_type": "code",
   "execution_count": 0,
   "metadata": {
    "colab": {
     "autoexec": {
      "startup": false,
      "wait_interval": 0
     }
    },
    "colab_type": "code",
    "collapsed": true,
    "id": "qh2gb0tAL00m"
   },
   "outputs": [],
   "source": []
  },
  {
   "cell_type": "markdown",
   "metadata": {
    "colab_type": "text",
    "id": "JO4WHBlDL00o"
   },
   "source": [
    "* 답변대상 청원중 아직 답변되지 않은 청원의 수를 계산해 보세요."
   ]
  },
  {
   "cell_type": "code",
   "execution_count": 0,
   "metadata": {
    "colab": {
     "autoexec": {
      "startup": false,
      "wait_interval": 0
     }
    },
    "colab_type": "code",
    "collapsed": true,
    "id": "_oGgGs37L00o"
   },
   "outputs": [],
   "source": []
  },
  {
   "cell_type": "markdown",
   "metadata": {
    "colab_type": "text",
    "id": "6FwoYTkIL00r"
   },
   "source": [
    "## 답변 대상 청원 중 투표를 가장 많이 받은 것"
   ]
  },
  {
   "cell_type": "code",
   "execution_count": 0,
   "metadata": {
    "colab": {
     "autoexec": {
      "startup": false,
      "wait_interval": 0
     }
    },
    "colab_type": "code",
    "collapsed": true,
    "id": "jLDyeFaUL00r"
   },
   "outputs": [],
   "source": []
  },
  {
   "cell_type": "markdown",
   "metadata": {
    "colab_type": "text",
    "id": "z57ktosBL00t"
   },
   "source": [
    "## 어느 분야의 청원이 가장 많이 들어왔는지?\n",
    "pandas의 value_counts로 특정 컬럼의 데이터를 그룹화하여 카운된 숫자를 볼 수 있습니다.<br/>\n",
    "어느 분야의 청원이 가장 많이 들어왔는지 찾아보세요."
   ]
  },
  {
   "cell_type": "code",
   "execution_count": 62,
   "metadata": {
    "colab": {
     "autoexec": {
      "startup": false,
      "wait_interval": 0
     }
    },
    "colab_type": "code",
    "id": "KdvvIImmL00t"
   },
   "outputs": [
    {
     "data": {
      "text/html": [
       "<div>\n",
       "<style>\n",
       "    .dataframe thead tr:only-child th {\n",
       "        text-align: right;\n",
       "    }\n",
       "\n",
       "    .dataframe thead th {\n",
       "        text-align: left;\n",
       "    }\n",
       "\n",
       "    .dataframe tbody tr th {\n",
       "        vertical-align: top;\n",
       "    }\n",
       "</style>\n",
       "<table border=\"1\" class=\"dataframe\">\n",
       "  <thead>\n",
       "    <tr style=\"text-align: right;\">\n",
       "      <th></th>\n",
       "      <th>category</th>\n",
       "      <th>answered</th>\n",
       "      <th>article_id</th>\n",
       "      <th>votes</th>\n",
       "    </tr>\n",
       "  </thead>\n",
       "  <tbody>\n",
       "    <tr>\n",
       "      <th>0</th>\n",
       "      <td>인권/성평등</td>\n",
       "      <td>9</td>\n",
       "      <td>2475400553</td>\n",
       "      <td>5842796</td>\n",
       "    </tr>\n",
       "    <tr>\n",
       "      <th>1</th>\n",
       "      <td>정치개혁</td>\n",
       "      <td>1</td>\n",
       "      <td>4899206540</td>\n",
       "      <td>3053479</td>\n",
       "    </tr>\n",
       "    <tr>\n",
       "      <th>2</th>\n",
       "      <td>문화/예술/체육/언론</td>\n",
       "      <td>4</td>\n",
       "      <td>1461621936</td>\n",
       "      <td>3045112</td>\n",
       "    </tr>\n",
       "    <tr>\n",
       "      <th>3</th>\n",
       "      <td>기타</td>\n",
       "      <td>1</td>\n",
       "      <td>3269538542</td>\n",
       "      <td>2905688</td>\n",
       "    </tr>\n",
       "    <tr>\n",
       "      <th>4</th>\n",
       "      <td>안전/환경</td>\n",
       "      <td>2</td>\n",
       "      <td>1945769421</td>\n",
       "      <td>2575066</td>\n",
       "    </tr>\n",
       "    <tr>\n",
       "      <th>5</th>\n",
       "      <td>보건복지</td>\n",
       "      <td>2</td>\n",
       "      <td>1434543598</td>\n",
       "      <td>2518928</td>\n",
       "    </tr>\n",
       "    <tr>\n",
       "      <th>6</th>\n",
       "      <td>외교/통일/국방</td>\n",
       "      <td>1</td>\n",
       "      <td>1973544566</td>\n",
       "      <td>2330451</td>\n",
       "    </tr>\n",
       "    <tr>\n",
       "      <th>7</th>\n",
       "      <td>육아/교육</td>\n",
       "      <td>1</td>\n",
       "      <td>1488322911</td>\n",
       "      <td>2038942</td>\n",
       "    </tr>\n",
       "    <tr>\n",
       "      <th>8</th>\n",
       "      <td>행정</td>\n",
       "      <td>1</td>\n",
       "      <td>1451787154</td>\n",
       "      <td>1157404</td>\n",
       "    </tr>\n",
       "    <tr>\n",
       "      <th>9</th>\n",
       "      <td>경제민주화</td>\n",
       "      <td>1</td>\n",
       "      <td>1152562203</td>\n",
       "      <td>1107672</td>\n",
       "    </tr>\n",
       "    <tr>\n",
       "      <th>10</th>\n",
       "      <td>교통/건축/국토</td>\n",
       "      <td>1</td>\n",
       "      <td>1343340132</td>\n",
       "      <td>1097105</td>\n",
       "    </tr>\n",
       "    <tr>\n",
       "      <th>11</th>\n",
       "      <td>반려동물</td>\n",
       "      <td>0</td>\n",
       "      <td>285247388</td>\n",
       "      <td>935071</td>\n",
       "    </tr>\n",
       "    <tr>\n",
       "      <th>12</th>\n",
       "      <td>미래</td>\n",
       "      <td>1</td>\n",
       "      <td>1092921180</td>\n",
       "      <td>853645</td>\n",
       "    </tr>\n",
       "    <tr>\n",
       "      <th>13</th>\n",
       "      <td>성장동력</td>\n",
       "      <td>2</td>\n",
       "      <td>501344546</td>\n",
       "      <td>673733</td>\n",
       "    </tr>\n",
       "    <tr>\n",
       "      <th>14</th>\n",
       "      <td>일자리</td>\n",
       "      <td>0</td>\n",
       "      <td>1486495737</td>\n",
       "      <td>590351</td>\n",
       "    </tr>\n",
       "    <tr>\n",
       "      <th>15</th>\n",
       "      <td>저출산/고령화대책</td>\n",
       "      <td>0</td>\n",
       "      <td>203518154</td>\n",
       "      <td>86197</td>\n",
       "    </tr>\n",
       "    <tr>\n",
       "      <th>16</th>\n",
       "      <td>농산어촌</td>\n",
       "      <td>0</td>\n",
       "      <td>123305761</td>\n",
       "      <td>81656</td>\n",
       "    </tr>\n",
       "  </tbody>\n",
       "</table>\n",
       "</div>"
      ],
      "text/plain": [
       "       category  answered  article_id    votes\n",
       "0        인권/성평등         9  2475400553  5842796\n",
       "1          정치개혁         1  4899206540  3053479\n",
       "2   문화/예술/체육/언론         4  1461621936  3045112\n",
       "3            기타         1  3269538542  2905688\n",
       "4         안전/환경         2  1945769421  2575066\n",
       "5          보건복지         2  1434543598  2518928\n",
       "6      외교/통일/국방         1  1973544566  2330451\n",
       "7         육아/교육         1  1488322911  2038942\n",
       "8            행정         1  1451787154  1157404\n",
       "9         경제민주화         1  1152562203  1107672\n",
       "10     교통/건축/국토         1  1343340132  1097105\n",
       "11         반려동물         0   285247388   935071\n",
       "12           미래         1  1092921180   853645\n",
       "13         성장동력         2   501344546   673733\n",
       "14          일자리         0  1486495737   590351\n",
       "15    저출산/고령화대책         0   203518154    86197\n",
       "16         농산어촌         0   123305761    81656"
      ]
     },
     "execution_count": 62,
     "metadata": {},
     "output_type": "execute_result"
    }
   ],
   "source": [
    "petitions_unique = pd.pivot_table(df, index = ['category'], aggfunc = np.sum)\n",
    "petitions_best = petitions_unique.sort_values(by = 'votes', \\\n",
    "                                              ascending = False).reset_index()\n",
    "petitions_best"
   ]
  },
  {
   "cell_type": "markdown",
   "metadata": {
    "colab_type": "text",
    "id": "-xipmEyOL00v"
   },
   "source": [
    "## 각 청원이 얼마 동안 집계되었는지?\n",
    "청원이 가장 많이 들어 온 날은 언제인지 정렬해 보세요."
   ]
  },
  {
   "cell_type": "code",
   "execution_count": 0,
   "metadata": {
    "colab": {
     "autoexec": {
      "startup": false,
      "wait_interval": 0
     }
    },
    "colab_type": "code",
    "collapsed": true,
    "id": "g_5dd7ooL00v"
   },
   "outputs": [],
   "source": []
  },
  {
   "cell_type": "markdown",
   "metadata": {
    "colab_type": "text",
    "id": "9G3Q0qZDL00x"
   },
   "source": [
    "## 피봇 테이블로 투표를 가장 많이 받은 분야를 찾아보세요."
   ]
  },
  {
   "cell_type": "code",
   "execution_count": 0,
   "metadata": {
    "colab": {
     "autoexec": {
      "startup": false,
      "wait_interval": 0
     }
    },
    "colab_type": "code",
    "collapsed": true,
    "id": "Fud7guAQL00x"
   },
   "outputs": [],
   "source": []
  },
  {
   "cell_type": "markdown",
   "metadata": {
    "colab_type": "text",
    "id": "z1CEW55SL001"
   },
   "source": [
    "## 투표를 가장 많이 받은 날은 언제일까요?"
   ]
  },
  {
   "cell_type": "code",
   "execution_count": 0,
   "metadata": {
    "colab": {
     "autoexec": {
      "startup": false,
      "wait_interval": 0
     }
    },
    "colab_type": "code",
    "collapsed": true,
    "id": "bN1YXz3kL003"
   },
   "outputs": [],
   "source": []
  },
  {
   "cell_type": "markdown",
   "metadata": {
    "colab_type": "text",
    "id": "DPUJwxuDL005"
   },
   "source": [
    "## 청원을 많이 받은 날 VS 투표를 많이 받은 날에 대해 각각 상위 5개 목록을 추출해 봅니다. \n",
    "이때, title, content는 안 나와도 됩니다."
   ]
  },
  {
   "cell_type": "code",
   "execution_count": 0,
   "metadata": {
    "colab": {
     "autoexec": {
      "startup": false,
      "wait_interval": 0
     }
    },
    "colab_type": "code",
    "collapsed": true,
    "id": "RzhOZsssL007"
   },
   "outputs": [],
   "source": []
  },
  {
   "cell_type": "code",
   "execution_count": 0,
   "metadata": {
    "colab": {
     "autoexec": {
      "startup": false,
      "wait_interval": 0
     }
    },
    "colab_type": "code",
    "collapsed": true,
    "id": "1YMHJU_1L00-"
   },
   "outputs": [],
   "source": []
  },
  {
   "cell_type": "markdown",
   "metadata": {
    "colab_type": "text",
    "id": "y95HHJRKL01B"
   },
   "source": [
    "## 시계열 데이터 보기\n",
    "* 월별 청원수를 집계해 보세요."
   ]
  },
  {
   "cell_type": "markdown",
   "metadata": {
    "colab_type": "text",
    "id": "Xa0tMfonL01B"
   },
   "source": [
    "* 청원이 가장 많이 들어온 달은 언제인가요?\n",
    "* 요일별 청원 수는 어떻게 되나요?"
   ]
  },
  {
   "cell_type": "code",
   "execution_count": 0,
   "metadata": {
    "colab": {
     "autoexec": {
      "startup": false,
      "wait_interval": 0
     }
    },
    "colab_type": "code",
    "collapsed": true,
    "id": "Dlarj6qsL01D"
   },
   "outputs": [],
   "source": [
    "특정 단어가 들어가는 청원을 찾아보세요."
   ]
  },
  {
   "cell_type": "code",
   "execution_count": 18,
   "metadata": {
    "colab": {
     "autoexec": {
      "startup": false,
      "wait_interval": 0
     }
    },
    "colab_type": "code",
    "id": "fg0tsYCvL01E"
   },
   "outputs": [
    {
     "data": {
      "text/plain": [
       "(7773, 8)"
      ]
     },
     "execution_count": 18,
     "metadata": {},
     "output_type": "execute_result"
    }
   ],
   "source": [
    "crypto = df[( df.title.str.find('가상화폐') != -1 ) | ( df.content.str.find('가상화폐') != -1  )]\n",
    "crypto.shape"
   ]
  },
  {
   "cell_type": "code",
   "execution_count": 25,
   "metadata": {
    "colab": {
     "autoexec": {
      "startup": false,
      "wait_interval": 0
     }
    },
    "colab_type": "code",
    "id": "Sb430TNGL01I"
   },
   "outputs": [
    {
     "data": {
      "text/plain": [
       "(1613, 8)"
      ]
     },
     "execution_count": 25,
     "metadata": {},
     "output_type": "execute_result"
    }
   ],
   "source": [
    "# 정규표현식 사용을 위해 import\n",
    "import re\n",
    "p = r'.*(아시안게임|국가대표|선동열|KBO).*'\n",
    "care = df[df['title'].str.match(p) |\n",
    "           df['content'].str.match(p, flags=re.MULTILINE)]\n",
    "care.shape"
   ]
  },
  {
   "cell_type": "code",
   "execution_count": 32,
   "metadata": {},
   "outputs": [
    {
     "data": {
      "text/html": [
       "<div>\n",
       "<style>\n",
       "    .dataframe thead tr:only-child th {\n",
       "        text-align: right;\n",
       "    }\n",
       "\n",
       "    .dataframe thead th {\n",
       "        text-align: left;\n",
       "    }\n",
       "\n",
       "    .dataframe tbody tr th {\n",
       "        vertical-align: top;\n",
       "    }\n",
       "</style>\n",
       "<table border=\"1\" class=\"dataframe\">\n",
       "  <thead>\n",
       "    <tr style=\"text-align: right;\">\n",
       "      <th></th>\n",
       "      <th>title</th>\n",
       "      <th>content</th>\n",
       "      <th>votes</th>\n",
       "    </tr>\n",
       "  </thead>\n",
       "  <tbody>\n",
       "    <tr>\n",
       "      <th>109697</th>\n",
       "      <td>고등학교 학교생활기록부 기재 항목 개선안의 무효화를 적극청원합니다.</td>\n",
       "      <td>안녕하십니까, 현재 대구광역시 모 고교에 재학중인 고교생입니다. 식견 부족한 고등학...</td>\n",
       "      <td>6439</td>\n",
       "    </tr>\n",
       "    <tr>\n",
       "      <th>109893</th>\n",
       "      <td>고등학교 학교생활기록부(학생부) 개편안 무효화를 청원합니다.</td>\n",
       "      <td>안녕하십니까, 저희는 올해 고등학생이 되는 청소년들입니다.\\n얼마 전 교육부에서 고...</td>\n",
       "      <td>1636</td>\n",
       "    </tr>\n",
       "    <tr>\n",
       "      <th>70980</th>\n",
       "      <td>2017년도 의무기록사 국가고시에 대해 할말이있습니다.</td>\n",
       "      <td>대학 보건행정과를 나왔습니다.\\n저희 과에서 최고 시험은 의무기록사면허시험입니다.\\...</td>\n",
       "      <td>761</td>\n",
       "    </tr>\n",
       "    <tr>\n",
       "      <th>62145</th>\n",
       "      <td>(학생부종합전형)학교생활기록부 작성 항목의 개정을 바랍니다.</td>\n",
       "      <td>현행 학교생활기록부 작성 양식을 바꾸었으면 합니다.\\n거창하게\\n대입 수시 전형 중...</td>\n",
       "      <td>291</td>\n",
       "    </tr>\n",
       "    <tr>\n",
       "      <th>127420</th>\n",
       "      <td>김어준씨에 대한 거짓 청원글 기록 삭제하지말고 남겨주세요</td>\n",
       "      <td>최근 미투운동이 확산되면서 본질은 사라지고 인신공격과 정치적공세로 치닫을까봐 우려하...</td>\n",
       "      <td>169</td>\n",
       "    </tr>\n",
       "    <tr>\n",
       "      <th>202055</th>\n",
       "      <td>공직후보자, 특히 단체장 후보의 건강기록 공개를 의무화 하자!</td>\n",
       "      <td>공직후보자 건강은 공직수행에 매우 중요한 요소이며 유권자는 공직 후보자의 건강상태를...</td>\n",
       "      <td>125</td>\n",
       "    </tr>\n",
       "    <tr>\n",
       "      <th>60366</th>\n",
       "      <td>소액벌금형 전과기록자도 특별사면에 적용시켜 주십시오.</td>\n",
       "      <td>개요 :\\n- 다가오는 연말연초 사면, 복권, 등 관련하여 대통령께서 특별사면을 하...</td>\n",
       "      <td>110</td>\n",
       "    </tr>\n",
       "  </tbody>\n",
       "</table>\n",
       "</div>"
      ],
      "text/plain": [
       "                                        title  \\\n",
       "109697  고등학교 학교생활기록부 기재 항목 개선안의 무효화를 적극청원합니다.   \n",
       "109893      고등학교 학교생활기록부(학생부) 개편안 무효화를 청원합니다.   \n",
       "70980          2017년도 의무기록사 국가고시에 대해 할말이있습니다.   \n",
       "62145       (학생부종합전형)학교생활기록부 작성 항목의 개정을 바랍니다.   \n",
       "127420        김어준씨에 대한 거짓 청원글 기록 삭제하지말고 남겨주세요   \n",
       "202055     공직후보자, 특히 단체장 후보의 건강기록 공개를 의무화 하자!   \n",
       "60366           소액벌금형 전과기록자도 특별사면에 적용시켜 주십시오.   \n",
       "\n",
       "                                                  content  votes  \n",
       "109697  안녕하십니까, 현재 대구광역시 모 고교에 재학중인 고교생입니다. 식견 부족한 고등학...   6439  \n",
       "109893  안녕하십니까, 저희는 올해 고등학생이 되는 청소년들입니다.\\n얼마 전 교육부에서 고...   1636  \n",
       "70980   대학 보건행정과를 나왔습니다.\\n저희 과에서 최고 시험은 의무기록사면허시험입니다.\\...    761  \n",
       "62145   현행 학교생활기록부 작성 양식을 바꾸었으면 합니다.\\n거창하게\\n대입 수시 전형 중...    291  \n",
       "127420  최근 미투운동이 확산되면서 본질은 사라지고 인신공격과 정치적공세로 치닫을까봐 우려하...    169  \n",
       "202055  공직후보자 건강은 공직수행에 매우 중요한 요소이며 유권자는 공직 후보자의 건강상태를...    125  \n",
       "60366   개요 :\\n- 다가오는 연말연초 사면, 복권, 등 관련하여 대통령께서 특별사면을 하...    110  "
      ]
     },
     "execution_count": 32,
     "metadata": {},
     "output_type": "execute_result"
    }
   ],
   "source": [
    "df['title'].str\n",
    "search = df[( df.title.str.find('기록') != -1 ) & ( df.content.str.find('기록') != -1  ) & ( df.votes > 0 ) ]\n",
    "search[['title','content', 'votes']].sort_values(by='votes', ascending=False).head(7)"
   ]
  },
  {
   "cell_type": "code",
   "execution_count": 36,
   "metadata": {
    "scrolled": true
   },
   "outputs": [
    {
     "data": {
      "text/html": [
       "<div>\n",
       "<style>\n",
       "    .dataframe thead tr:only-child th {\n",
       "        text-align: right;\n",
       "    }\n",
       "\n",
       "    .dataframe thead th {\n",
       "        text-align: left;\n",
       "    }\n",
       "\n",
       "    .dataframe tbody tr th {\n",
       "        vertical-align: top;\n",
       "    }\n",
       "</style>\n",
       "<table border=\"1\" class=\"dataframe\">\n",
       "  <thead>\n",
       "    <tr style=\"text-align: right;\">\n",
       "      <th></th>\n",
       "      <th>answered</th>\n",
       "      <th>article_id</th>\n",
       "      <th>category</th>\n",
       "      <th>content</th>\n",
       "      <th>end</th>\n",
       "      <th>start</th>\n",
       "      <th>title</th>\n",
       "      <th>votes</th>\n",
       "    </tr>\n",
       "  </thead>\n",
       "  <tbody>\n",
       "    <tr>\n",
       "      <th>14479</th>\n",
       "      <td>0</td>\n",
       "      <td>14564</td>\n",
       "      <td>보건복지</td>\n",
       "      <td>딸아이가 아빠로부터 성추행을 당해 경찰에 신고하였고,\\n가해자인 친부가 검찰에 송치...</td>\n",
       "      <td>2017-10-18</td>\n",
       "      <td>2017-09-18</td>\n",
       "      <td>[의료법 개정 건의건] 성추행한 친부가 피해자 아이의 의료기록을 열람하고 있습니다!</td>\n",
       "      <td>4</td>\n",
       "    </tr>\n",
       "    <tr>\n",
       "      <th>15443</th>\n",
       "      <td>0</td>\n",
       "      <td>15556</td>\n",
       "      <td>문화/예술/체육/언론</td>\n",
       "      <td>안녕하세요.\\n저는 중국 충칭(重慶)에 살면서 한국기업의 노무관리 자문역, 주간지ㆍ...</td>\n",
       "      <td>2017-10-20</td>\n",
       "      <td>2017-09-20</td>\n",
       "      <td>중국 내 임시정부, 광복군 유적과 다른 독립운동 사적에 대한 전면적인 기록을 남겨야...</td>\n",
       "      <td>1</td>\n",
       "    </tr>\n",
       "    <tr>\n",
       "      <th>17300</th>\n",
       "      <td>0</td>\n",
       "      <td>17445</td>\n",
       "      <td>보건복지</td>\n",
       "      <td>안녕하세요 줄초상치르고 이제야 정신차린 유가족입니다\\n오늘 내일하시는 할머니를 입원...</td>\n",
       "      <td>2017-10-27</td>\n",
       "      <td>2017-09-27</td>\n",
       "      <td>부산대학병원의 진료거부, 기료기록 조작</td>\n",
       "      <td>1</td>\n",
       "    </tr>\n",
       "    <tr>\n",
       "      <th>18356</th>\n",
       "      <td>0</td>\n",
       "      <td>18573</td>\n",
       "      <td>외교/통일/국방</td>\n",
       "      <td>안녕하세요!  대한민국 국민의 한사람 입니다.\\n국민이 국가를 위하여  헌신하였는데...</td>\n",
       "      <td>2017-10-31</td>\n",
       "      <td>2017-10-01</td>\n",
       "      <td>63년만에 병적기록을 찾았고, 국가의 잘못으로 이제야 등록하였데 보상이 안되는건 말...</td>\n",
       "      <td>1</td>\n",
       "    </tr>\n",
       "    <tr>\n",
       "      <th>18981</th>\n",
       "      <td>0</td>\n",
       "      <td>19220</td>\n",
       "      <td>육아/교육</td>\n",
       "      <td>친일파 식민사학자 이병도와 신석호는 일제시대 일본인 스승밑에서 왜곡된 역사학 일본인...</td>\n",
       "      <td>2017-11-04</td>\n",
       "      <td>2017-10-05</td>\n",
       "      <td>단군,고조선,부여,요하문명을 연구하고 역사책에 기록해야 합니다</td>\n",
       "      <td>2</td>\n",
       "    </tr>\n",
       "    <tr>\n",
       "      <th>20673</th>\n",
       "      <td>0</td>\n",
       "      <td>21053</td>\n",
       "      <td>인권/성평등</td>\n",
       "      <td>1. 본인은 0000년 0월 0일 입대하여 27사단 77연대 2대대 5중대에서 군생...</td>\n",
       "      <td>2017-11-12</td>\n",
       "      <td>2017-10-13</td>\n",
       "      <td>민간인 사찰 기록, 이유와 목적 밝혀야</td>\n",
       "      <td>1</td>\n",
       "    </tr>\n",
       "    <tr>\n",
       "      <th>21111</th>\n",
       "      <td>0</td>\n",
       "      <td>21548</td>\n",
       "      <td>육아/교육</td>\n",
       "      <td>학교생활기록부에는 학생의 전반적인 학교 활동과 학생이 교육활동을 통한 이룬 성취 등...</td>\n",
       "      <td>2017-11-15</td>\n",
       "      <td>2017-10-16</td>\n",
       "      <td>한국사능력검정시험 학교생활기록부 입력 가능하도록 해주세요</td>\n",
       "      <td>1</td>\n",
       "    </tr>\n",
       "  </tbody>\n",
       "</table>\n",
       "</div>"
      ],
      "text/plain": [
       "       answered  article_id     category  \\\n",
       "14479         0       14564         보건복지   \n",
       "15443         0       15556  문화/예술/체육/언론   \n",
       "17300         0       17445         보건복지   \n",
       "18356         0       18573     외교/통일/국방   \n",
       "18981         0       19220        육아/교육   \n",
       "20673         0       21053       인권/성평등   \n",
       "21111         0       21548        육아/교육   \n",
       "\n",
       "                                                 content        end  \\\n",
       "14479  딸아이가 아빠로부터 성추행을 당해 경찰에 신고하였고,\\n가해자인 친부가 검찰에 송치... 2017-10-18   \n",
       "15443  안녕하세요.\\n저는 중국 충칭(重慶)에 살면서 한국기업의 노무관리 자문역, 주간지ㆍ... 2017-10-20   \n",
       "17300  안녕하세요 줄초상치르고 이제야 정신차린 유가족입니다\\n오늘 내일하시는 할머니를 입원... 2017-10-27   \n",
       "18356  안녕하세요!  대한민국 국민의 한사람 입니다.\\n국민이 국가를 위하여  헌신하였는데... 2017-10-31   \n",
       "18981  친일파 식민사학자 이병도와 신석호는 일제시대 일본인 스승밑에서 왜곡된 역사학 일본인... 2017-11-04   \n",
       "20673  1. 본인은 0000년 0월 0일 입대하여 27사단 77연대 2대대 5중대에서 군생... 2017-11-12   \n",
       "21111  학교생활기록부에는 학생의 전반적인 학교 활동과 학생이 교육활동을 통한 이룬 성취 등... 2017-11-15   \n",
       "\n",
       "           start                                              title  votes  \n",
       "14479 2017-09-18     [의료법 개정 건의건] 성추행한 친부가 피해자 아이의 의료기록을 열람하고 있습니다!      4  \n",
       "15443 2017-09-20  중국 내 임시정부, 광복군 유적과 다른 독립운동 사적에 대한 전면적인 기록을 남겨야...      1  \n",
       "17300 2017-09-27                              부산대학병원의 진료거부, 기료기록 조작      1  \n",
       "18356 2017-10-01  63년만에 병적기록을 찾았고, 국가의 잘못으로 이제야 등록하였데 보상이 안되는건 말...      1  \n",
       "18981 2017-10-05                 단군,고조선,부여,요하문명을 연구하고 역사책에 기록해야 합니다      2  \n",
       "20673 2017-10-13                              민간인 사찰 기록, 이유와 목적 밝혀야      1  \n",
       "21111 2017-10-16                    한국사능력검정시험 학교생활기록부 입력 가능하도록 해주세요      1  "
      ]
     },
     "execution_count": 36,
     "metadata": {},
     "output_type": "execute_result"
    }
   ],
   "source": [
    "search.sort_index(axis = 1).head(7)"
   ]
  },
  {
   "cell_type": "code",
   "execution_count": 37,
   "metadata": {},
   "outputs": [
    {
     "data": {
      "text/plain": [
       "Index(['article_id', 'start', 'end', 'answered', 'votes', 'category', 'title',\n",
       "       'content'],\n",
       "      dtype='object')"
      ]
     },
     "execution_count": 37,
     "metadata": {},
     "output_type": "execute_result"
    }
   ],
   "source": [
    "col = search.columns\n",
    "col"
   ]
  },
  {
   "cell_type": "markdown",
   "metadata": {
    "colab_type": "text",
    "id": "RGVoPdpeL01I"
   },
   "source": [
    "## 위 분석 외에 각자 해보고 싶은 분석을 해보세요."
   ]
  },
  {
   "cell_type": "code",
   "execution_count": 0,
   "metadata": {
    "colab": {
     "autoexec": {
      "startup": false,
      "wait_interval": 0
     }
    },
    "colab_type": "code",
    "collapsed": true,
    "id": "JhK9tNqqL01J"
   },
   "outputs": [],
   "source": []
  },
  {
   "cell_type": "markdown",
   "metadata": {
    "colab_type": "text",
    "id": "qX89APN_L01K"
   },
   "source": [
    "# 시각화\n",
    "참고 : http://plotnine.readthedocs.io/en/stable/\n",
    "[has2k1/plotnine-examples: Jupyter Notebooks that are part of the plotnine documentation](https://github.com/has2k1/plotnine-examples)\n",
    "\n",
    "#### 한글폰트 사용하기\n",
    "* 한글이 깨져보이는 것을 해결하기 위해 한글폰트를 사용해야 한다.\n",
    "* 여기에서는 나눔바른고딕을 사용하도록 한다. \n",
    "    * 이때 폰트가 로컬 컴퓨터에 설치되어 있어야한다. \n",
    "    * 나눔고딕은 무료로 사용할 수 있는 폰트다. \n",
    "    * 참고 : [네이버 나눔글꼴 라이선스](https://help.naver.com/support/contents/contents.nhn?serviceNo=1074&categoryNo=3497)\n",
    "* 한글을 사용하기 위해서는 ggplot에서 theme에 폰트를 지정해 주면된다.\n",
    "* 아래의 문서를 참고하면 **element_text**와 관련된 옵션을 볼 수 있다.\n",
    "* 참고 : [plotnine.themes.element_text — plotnine 0.3.0 documentation](http://plotnine.readthedocs.io/en/stable/generated/plotnine.themes.element_text.html)"
   ]
  },
  {
   "cell_type": "code",
   "execution_count": 0,
   "metadata": {
    "colab": {
     "autoexec": {
      "startup": false,
      "wait_interval": 0
     }
    },
    "colab_type": "code",
    "collapsed": true,
    "id": "UvEw44-wL01L"
   },
   "outputs": [],
   "source": [
    "from plotnine import *\n",
    "\n",
    "(ggplot(df)\n",
    " + aes('category')\n",
    " + geom_bar(fill='green')\n",
    " + theme(text=element_text(family='NanumBarunGothic'),\n",
    "        axis_text_x=element_text(rotation=60))\n",
    ")"
   ]
  }
 ],
 "metadata": {
  "colab": {
   "default_view": {},
   "name": "petition-pandas-question.ipynb",
   "provenance": [],
   "version": "0.3.2",
   "views": {}
  },
  "kernelspec": {
   "display_name": "Python 3",
   "language": "python",
   "name": "python3"
  },
  "language_info": {
   "codemirror_mode": {
    "name": "ipython",
    "version": 3
   },
   "file_extension": ".py",
   "mimetype": "text/x-python",
   "name": "python",
   "nbconvert_exporter": "python",
   "pygments_lexer": "ipython3",
   "version": "3.6.1"
  }
 },
 "nbformat": 4,
 "nbformat_minor": 1
}
