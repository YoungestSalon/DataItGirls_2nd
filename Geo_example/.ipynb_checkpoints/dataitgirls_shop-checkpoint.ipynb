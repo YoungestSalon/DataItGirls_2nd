{
 "cells": [
  {
   "cell_type": "markdown",
   "metadata": {},
   "source": [
    "# 공공데이터 상권정보 분석해 보기\n",
    "* https://www.data.go.kr/dataset/15012005/fileData.do\n",
    "* 국가중점데이터인 상권정보를 살펴봅니다.\n",
    "* 처음으로 파일데이터에서 상권별 업종밀집통계정보를 다운로드 받아봅니다."
   ]
  },
  {
   "cell_type": "code",
   "execution_count": null,
   "metadata": {},
   "outputs": [],
   "source": [
    "import warnings\n",
    "warnings.filterwarnings('ignore')"
   ]
  },
  {
   "cell_type": "code",
   "execution_count": null,
   "metadata": {},
   "outputs": [],
   "source": [
    "!pip install plotnine"
   ]
  },
  {
   "cell_type": "code",
   "execution_count": 3,
   "metadata": {},
   "outputs": [],
   "source": [
    "import pandas as pd\n",
    "from plotnine import *"
   ]
  },
  {
   "cell_type": "markdown",
   "metadata": {},
   "source": [
    "# 상가업소정보 2017년 9월"
   ]
  },
  {
   "cell_type": "code",
   "execution_count": 5,
   "metadata": {},
   "outputs": [
    {
     "ename": "SyntaxError",
     "evalue": "(unicode error) 'unicodeescape' codec can't decode bytes in position 2-3: truncated \\UXXXXXXXX escape (<ipython-input-5-40f1f9d63bec>, line 2)",
     "output_type": "error",
     "traceback": [
      "\u001b[1;36m  File \u001b[1;32m\"<ipython-input-5-40f1f9d63bec>\"\u001b[1;36m, line \u001b[1;32m2\u001b[0m\n\u001b[1;33m    shop_201709_01 = pd.read_csv('C:\\Users\\Louise\\Documents\\Jupyter\\Geo_example/shop_201709_01.csv', encoding='cp949')\u001b[0m\n\u001b[1;37m                                ^\u001b[0m\n\u001b[1;31mSyntaxError\u001b[0m\u001b[1;31m:\u001b[0m (unicode error) 'unicodeescape' codec can't decode bytes in position 2-3: truncated \\UXXXXXXXX escape\n"
     ]
    }
   ],
   "source": [
    "# 상가업소정보 2017년 9월 데이터\n",
    "shop_201709_01 = pd.read_csv('C:\\Users\\Louise\\Documents\\Jupyter\\Geo_example/shop_201709_01.csv', encoding='cp949')\n",
    "shop_201709_01.shape"
   ]
  },
  {
   "cell_type": "code",
   "execution_count": null,
   "metadata": {},
   "outputs": [],
   "source": [
    "shop_201709_01.head(3)"
   ]
  },
  {
   "cell_type": "code",
   "execution_count": null,
   "metadata": {},
   "outputs": [],
   "source": [
    "shop_201709_01.tail(3)"
   ]
  },
  {
   "cell_type": "code",
   "execution_count": null,
   "metadata": {},
   "outputs": [],
   "source": [
    "# 생각보다 결측치가 많다.\n",
    "shop_201709_01.isnull().sum()"
   ]
  },
  {
   "cell_type": "code",
   "execution_count": null,
   "metadata": {},
   "outputs": [],
   "source": [
    "shop_201709_01.loc[shop_201709_01['위도'].isnull()]"
   ]
  },
  {
   "cell_type": "code",
   "execution_count": null,
   "metadata": {},
   "outputs": [],
   "source": [
    "# 모든 데이터를 한번에 찍으면 너무 오래 걸려서 1000개만 찍어봅니다.\n",
    "# 양쪽에 데이터가 몰려있는데 왜 그런지 주소 정보를 다시보겠습니다.\n",
    "(ggplot(shop_201709_01[:1000])\n",
    " + aes(x='경도', y='위도')\n",
    " + geom_point()\n",
    " + theme(text=element_text(family='NanumBarunGothic'))\n",
    ")\n"
   ]
  },
  {
   "cell_type": "code",
   "execution_count": null,
   "metadata": {},
   "outputs": [],
   "source": [
    "# 데이터를 보니 서울과 부산만 있는거 같습니다. \n",
    "# 그래서 서울과 그 외 데이터로 나눠봤습니다.\n",
    "shop_seoul = shop_201709_01.loc[shop_201709_01['도로명주소'].str.startswith('서울')]\n",
    "shop_except_seoul = shop_201709_01.loc[~shop_201709_01['도로명주소'].str.startswith('서울')]\n",
    "print(shop_seoul.shape)\n",
    "print(shop_except_seoul.shape)"
   ]
  },
  {
   "cell_type": "code",
   "execution_count": null,
   "metadata": {},
   "outputs": [],
   "source": [
    "# 서울만 찍어봤더니 서울지도 비슷하게 나옵니다.\n",
    "(ggplot(shop_seoul)\n",
    " + aes(x='경도', y='위도')\n",
    " + geom_point()\n",
    " + theme(text=element_text(family='NanumBarunGothic'))\n",
    ")\n"
   ]
  },
  {
   "cell_type": "code",
   "execution_count": null,
   "metadata": {},
   "outputs": [],
   "source": [
    "print(shop_201709_01.shape)\n",
    "shop_201709_01['시도'] = shop_201709_01['도로명주소'].str.split(' ', expand=True)[0]\n",
    "shop_201709_01['구군'] = shop_201709_01['도로명주소'].str.split(' ', expand=True)[1]\n",
    "print(shop_201709_01.shape)\n",
    "shop_201709_01.columns"
   ]
  },
  {
   "cell_type": "code",
   "execution_count": null,
   "metadata": {},
   "outputs": [],
   "source": [
    "# 서울만 찍어봤더니 서울지도 비슷하게 나옵니다.\n",
    "# 서울 DF을 다시 만들어 줍니다.\n",
    "shop_seoul = shop_201709_01.loc[shop_201709_01['도로명주소'].str.startswith('서울')]\n",
    "shop_seoul.shape"
   ]
  },
  {
   "cell_type": "code",
   "execution_count": null,
   "metadata": {},
   "outputs": [],
   "source": [
    "(ggplot(shop_seoul)\n",
    " + aes(x='경도', y='위도', color='구군')\n",
    " + geom_point()\n",
    " + theme(text=element_text(family='NanumBarunGothic'))\n",
    " + scale_fill_gradient(low = 'blue', high = 'green') \n",
    ")"
   ]
  },
  {
   "cell_type": "code",
   "execution_count": null,
   "metadata": {},
   "outputs": [],
   "source": [
    "shop_seoul['상권업종대분류명'].value_counts()"
   ]
  },
  {
   "cell_type": "code",
   "execution_count": null,
   "metadata": {},
   "outputs": [],
   "source": [
    "(ggplot(shop_seoul)\n",
    " + aes(x='경도', y='위도', color='상권업종대분류명')\n",
    " + geom_point()\n",
    " + theme(text=element_text(family='NanumBarunGothic'))\n",
    " + scale_fill_gradient(low = 'blue', high = 'green') \n",
    ")"
   ]
  },
  {
   "cell_type": "markdown",
   "metadata": {},
   "source": [
    "## 학문/교육과 관련된 지도 보기"
   ]
  },
  {
   "cell_type": "code",
   "execution_count": null,
   "metadata": {},
   "outputs": [],
   "source": [
    "shop_seoul_edu = shop_seoul.loc[shop_seoul['상권업종대분류명'] == '학문/교육']\n",
    "\n",
    "(ggplot(shop_seoul_edu)\n",
    " + aes(x='경도', y='위도', color='상권업종중분류명')\n",
    " + geom_point()\n",
    " + theme(text=element_text(family='NanumBarunGothic'))\n",
    " + scale_fill_gradient(low = 'blue', high = 'green') \n",
    ")"
   ]
  },
  {
   "cell_type": "code",
   "execution_count": null,
   "metadata": {},
   "outputs": [],
   "source": [
    "shop_seoul_edu = shop_seoul.loc[shop_seoul['상권업종중분류명'] == '학원-컴퓨터']\n",
    "\n",
    "(ggplot(shop_seoul_edu)\n",
    " + aes(x='경도', y='위도', color='상권업종중분류명')\n",
    " + geom_point()\n",
    " + theme(text=element_text(family='NanumBarunGothic'))\n",
    " + scale_fill_gradient(low = 'blue', high = 'green') \n",
    ")"
   ]
  },
  {
   "cell_type": "code",
   "execution_count": null,
   "metadata": {},
   "outputs": [],
   "source": [
    "shop_seoul_edu.columns"
   ]
  },
  {
   "cell_type": "code",
   "execution_count": null,
   "metadata": {},
   "outputs": [],
   "source": [
    "import folium\n",
    "geo_df = shop_seoul_edu\n",
    "map = folium.Map(location=[geo_df['위도'].mean(), geo_df['경도'].mean()], zoom_start=12)\n",
    "\n",
    "for n in geo_df.index:\n",
    "    park_name = geo_df['상호명'][n] + ' - ' + geo_df['도로명주소'][n]\n",
    "    folium.Marker([geo_df['위도'][n], geo_df['경도'][n]], popup=park_name).add_to(map)\n",
    "    \n",
    "map"
   ]
  },
  {
   "cell_type": "code",
   "execution_count": null,
   "metadata": {},
   "outputs": [],
   "source": [
    "shop_seoul_eat = shop_seoul.loc[shop_seoul['상권업종중분류명'] == '커피점/카페']\n",
    "\n",
    "(ggplot(shop_seoul_eat)\n",
    " + aes(x='경도', y='위도', color='구군')\n",
    " + geom_point()\n",
    " + theme(text=element_text(family='NanumBarunGothic'))\n",
    " + scale_fill_gradient(low = 'blue', high = 'green') \n",
    ")"
   ]
  },
  {
   "cell_type": "code",
   "execution_count": null,
   "metadata": {},
   "outputs": [],
   "source": [
    "# 부산만 있는거 같습니다.\n",
    "# 서울만 제외한 나머지 지역으로 DF을 다시 생성해 줍니다.\n",
    "shop_except_seoul = shop_201709_01.loc[~shop_201709_01['도로명주소'].str.startswith('서울')]\n",
    "(ggplot(shop_except_seoul)\n",
    " + aes(x='경도', y='위도', color='구군')\n",
    " + geom_point()\n",
    " + theme(text=element_text(family='NanumBarunGothic'))\n",
    ")"
   ]
  }
 ],
 "metadata": {
  "kernelspec": {
   "display_name": "Python 3",
   "language": "python",
   "name": "python3"
  },
  "language_info": {
   "codemirror_mode": {
    "name": "ipython",
    "version": 3
   },
   "file_extension": ".py",
   "mimetype": "text/x-python",
   "name": "python",
   "nbconvert_exporter": "python",
   "pygments_lexer": "ipython3",
   "version": "3.6.5"
  }
 },
 "nbformat": 4,
 "nbformat_minor": 2
}
