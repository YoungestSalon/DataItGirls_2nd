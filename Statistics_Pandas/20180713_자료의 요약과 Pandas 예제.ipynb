{
 "cells": [
  {
   "cell_type": "code",
   "execution_count": 5,
   "metadata": {
    "colab": {
     "autoexec": {
      "startup": false,
      "wait_interval": 0
     }
    },
    "colab_type": "code",
    "id": "FnGZcZccjfA3"
   },
   "outputs": [
    {
     "ename": "ModuleNotFoundError",
     "evalue": "No module named 'google'",
     "output_type": "error",
     "traceback": [
      "\u001b[1;31m---------------------------------------------------------------------------\u001b[0m",
      "\u001b[1;31mModuleNotFoundError\u001b[0m                       Traceback (most recent call last)",
      "\u001b[1;32m<ipython-input-5-41f0a80eeb58>\u001b[0m in \u001b[0;36m<module>\u001b[1;34m()\u001b[0m\n\u001b[0;32m      3\u001b[0m \u001b[1;32mimport\u001b[0m \u001b[0mpandas\u001b[0m \u001b[1;32mas\u001b[0m \u001b[0mpd\u001b[0m\u001b[1;33m\u001b[0m\u001b[0m\n\u001b[0;32m      4\u001b[0m \u001b[1;33m\u001b[0m\u001b[0m\n\u001b[1;32m----> 5\u001b[1;33m \u001b[1;32mfrom\u001b[0m \u001b[0mgoogle\u001b[0m\u001b[1;33m.\u001b[0m\u001b[0mcolab\u001b[0m \u001b[1;32mimport\u001b[0m \u001b[0mauth\u001b[0m\u001b[1;33m\u001b[0m\u001b[0m\n\u001b[0m\u001b[0;32m      6\u001b[0m \u001b[1;33m\u001b[0m\u001b[0m\n\u001b[0;32m      7\u001b[0m \u001b[0mauth\u001b[0m\u001b[1;33m.\u001b[0m\u001b[0mauthenticate_user\u001b[0m\u001b[1;33m(\u001b[0m\u001b[1;33m)\u001b[0m\u001b[1;33m\u001b[0m\u001b[0m\n",
      "\u001b[1;31mModuleNotFoundError\u001b[0m: No module named 'google'"
     ]
    }
   ],
   "source": [
    "!pip install --upgrade -q gspread\n",
    "\n",
    "import pandas as pd\n",
    "\n",
    "from google.colab import auth\n",
    "\n",
    "auth.authenticate_user()\n",
    "\n",
    "import gspread\n",
    "from oauth2client.client import GoogleCredentials\n",
    "\n",
    "\n",
    "def get_sheet(title, sheet_name):\n",
    "  gc = gspread.authorize(GoogleCredentials.get_application_default())\n",
    "  return gc.open(title).worksheet(sheet_name)"
   ]
  },
  {
   "cell_type": "markdown",
   "metadata": {
    "colab_type": "text",
    "id": "QA1i2lktp-yH"
   },
   "source": [
    "# 자료의 요약 시트 불러오기"
   ]
  },
  {
   "cell_type": "code",
   "execution_count": 2,
   "metadata": {
    "colab": {
     "autoexec": {
      "startup": false,
      "wait_interval": 0
     }
    },
    "colab_type": "code",
    "collapsed": true,
    "id": "Z65L_pz7Em-6"
   },
   "outputs": [],
   "source": [
    "# 자료의 요약에 있는 특정 시트를 불러옵니다.\n",
    "# 1번 row를 0번 인덱스로 읽어오는 데, 0번 인덱스를 컬럼으로 지정해 주도록 했습니다.\n",
    "# 그러면 스프레드시트에서 봤던 것 처럼 데이터프레임이 생성됩니다.\n",
    "def get_df(sheet_name):\n",
    "  sheet = get_sheet('자료의 요약', sheet_name)\n",
    "\n",
    "  # Create dataframe from the sheet\n",
    "  rows = sheet.get_all_values()\n",
    "  df = pd.DataFrame.from_records(rows)\n",
    "\n",
    "  df.columns = df.iloc[0]                # default 인덱스는 삭제하고\n",
    "  df = df.reindex(df.index.drop(0))      # 시트의 1번 row를 인덱스로 대체하는 코드\n",
    "  return df"
   ]
  },
  {
   "cell_type": "markdown",
   "metadata": {
    "colab_type": "text",
    "id": "Rg9jU-3pxkrD"
   },
   "source": [
    "# 혈액형"
   ]
  },
  {
   "cell_type": "code",
   "execution_count": 3,
   "metadata": {
    "colab": {
     "autoexec": {
      "startup": false,
      "wait_interval": 0
     }
    },
    "colab_type": "code",
    "id": "aqcIXpHqxj0T"
   },
   "outputs": [
    {
     "ename": "NameError",
     "evalue": "name 'get_sheet' is not defined",
     "output_type": "error",
     "traceback": [
      "\u001b[1;31m---------------------------------------------------------------------------\u001b[0m",
      "\u001b[1;31mNameError\u001b[0m                                 Traceback (most recent call last)",
      "\u001b[1;32m<ipython-input-3-cc27b138f5db>\u001b[0m in \u001b[0;36m<module>\u001b[1;34m()\u001b[0m\n\u001b[1;32m----> 1\u001b[1;33m \u001b[0mdf_blood\u001b[0m \u001b[1;33m=\u001b[0m \u001b[0mget_df\u001b[0m\u001b[1;33m(\u001b[0m\u001b[1;34m'혈액형'\u001b[0m\u001b[1;33m)\u001b[0m\u001b[1;33m\u001b[0m\u001b[0m\n\u001b[0m\u001b[0;32m      2\u001b[0m \u001b[1;31m# 상위 5개의 데이터를 가져옵니다.\u001b[0m\u001b[1;33m\u001b[0m\u001b[1;33m\u001b[0m\u001b[0m\n\u001b[0;32m      3\u001b[0m \u001b[0mprint\u001b[0m\u001b[1;33m(\u001b[0m\u001b[0mdf_blood\u001b[0m\u001b[1;33m.\u001b[0m\u001b[0mshape\u001b[0m\u001b[1;33m)\u001b[0m\u001b[1;33m\u001b[0m\u001b[0m\n\u001b[0;32m      4\u001b[0m \u001b[0mdf_blood\u001b[0m\u001b[1;33m.\u001b[0m\u001b[0mhead\u001b[0m\u001b[1;33m(\u001b[0m\u001b[1;33m)\u001b[0m         \u001b[1;31m# 참조 : df_blood.tail(3) → 뒤에서 3개만 불러옴\u001b[0m\u001b[1;33m\u001b[0m\u001b[0m\n",
      "\u001b[1;32m<ipython-input-2-b305b79973ba>\u001b[0m in \u001b[0;36mget_df\u001b[1;34m(sheet_name)\u001b[0m\n\u001b[0;32m      3\u001b[0m \u001b[1;31m# 그러면 스프레드시트에서 봤던 것 처럼 데이터프레임이 생성됩니다.\u001b[0m\u001b[1;33m\u001b[0m\u001b[1;33m\u001b[0m\u001b[0m\n\u001b[0;32m      4\u001b[0m \u001b[1;32mdef\u001b[0m \u001b[0mget_df\u001b[0m\u001b[1;33m(\u001b[0m\u001b[0msheet_name\u001b[0m\u001b[1;33m)\u001b[0m\u001b[1;33m:\u001b[0m\u001b[1;33m\u001b[0m\u001b[0m\n\u001b[1;32m----> 5\u001b[1;33m   \u001b[0msheet\u001b[0m \u001b[1;33m=\u001b[0m \u001b[0mget_sheet\u001b[0m\u001b[1;33m(\u001b[0m\u001b[1;34m'data/자료의 요약'\u001b[0m\u001b[1;33m,\u001b[0m \u001b[0msheet_name\u001b[0m\u001b[1;33m)\u001b[0m\u001b[1;33m\u001b[0m\u001b[0m\n\u001b[0m\u001b[0;32m      6\u001b[0m \u001b[1;33m\u001b[0m\u001b[0m\n\u001b[0;32m      7\u001b[0m   \u001b[1;31m# Create dataframe from the sheet\u001b[0m\u001b[1;33m\u001b[0m\u001b[1;33m\u001b[0m\u001b[0m\n",
      "\u001b[1;31mNameError\u001b[0m: name 'get_sheet' is not defined"
     ]
    }
   ],
   "source": [
    "df_blood = get_df('혈액형')\n",
    "# 상위 5개의 데이터를 가져옵니다.\n",
    "print(df_blood.shape)\n",
    "df_blood.head()         # 참조 : df_blood.tail(3) → 뒤에서 3개만 불러옴"
   ]
  },
  {
   "cell_type": "code",
   "execution_count": null,
   "metadata": {
    "colab": {
     "autoexec": {
      "startup": false,
      "wait_interval": 0
     }
    },
    "colab_type": "code",
    "collapsed": true,
    "id": "U0ogXBQ6Uffp"
   },
   "outputs": [],
   "source": [
    "df_blood.info()"
   ]
  },
  {
   "cell_type": "code",
   "execution_count": null,
   "metadata": {
    "colab": {
     "autoexec": {
      "startup": false,
      "wait_interval": 0
     }
    },
    "colab_type": "code",
    "collapsed": true,
    "id": "dvL-GNVihfzF"
   },
   "outputs": [],
   "source": [
    "df_blood"
   ]
  },
  {
   "cell_type": "markdown",
   "metadata": {
    "colab_type": "text",
    "id": "cTxrnkenp66k"
   },
   "source": [
    "# 조선왕"
   ]
  },
  {
   "cell_type": "code",
   "execution_count": null,
   "metadata": {
    "colab": {
     "autoexec": {
      "startup": false,
      "wait_interval": 0
     }
    },
    "colab_type": "code",
    "collapsed": true,
    "id": "M0T5cLsllz1P"
   },
   "outputs": [],
   "source": [
    "df_king = get_df('조선왕')\n",
    "# 상위 5개의 데이터를 가져옵니다.\n",
    "print(df_king.shape)\n",
    "df_king.head()"
   ]
  },
  {
   "cell_type": "code",
   "execution_count": null,
   "metadata": {
    "colab": {
     "autoexec": {
      "startup": false,
      "wait_interval": 0
     }
    },
    "colab_type": "code",
    "collapsed": true,
    "id": "Ac3MgOQSmAg-"
   },
   "outputs": [],
   "source": [
    "# 어떤 컬럼이 있고 데이터의 row, column 수, 데이터 타입을 볼 수 있다.\n",
    "df_king.info()"
   ]
  },
  {
   "cell_type": "code",
   "execution_count": null,
   "metadata": {
    "colab": {
     "autoexec": {
      "startup": false,
      "wait_interval": 0
     }
    },
    "colab_type": "code",
    "collapsed": true,
    "id": "gImNQuVrnYlo"
   },
   "outputs": [],
   "source": [
    "df_king.describe()"
   ]
  },
  {
   "cell_type": "code",
   "execution_count": null,
   "metadata": {
    "colab": {
     "autoexec": {
      "startup": false,
      "wait_interval": 0
     }
    },
    "colab_type": "code",
    "collapsed": true,
    "id": "04EQOy7CnJMh"
   },
   "outputs": [],
   "source": [
    "# 데이터 타입을 int로 변경해 준다.\n",
    "df_king['life'] = df_king['life'].astype(int)\n",
    "df_king['period'] = df_king['period'].astype(int)\n",
    "# 위와 describe() 했을 때의 정보가 다르다. \n",
    "# 수치형 데이터 일 때 count, mean, std, min/max, 사분위수를 보여준다.\n",
    "df_king.describe()"
   ]
  },
  {
   "cell_type": "code",
   "execution_count": null,
   "metadata": {
    "colab": {
     "autoexec": {
      "startup": false,
      "wait_interval": 0
     }
    },
    "colab_type": "code",
    "collapsed": true,
    "id": "cjYrTRvareU8"
   },
   "outputs": [],
   "source": [
    "# 결측치를 보고 싶을 때 널값을 구해 본다.\n",
    "df_king.isnull().sum()"
   ]
  },
  {
   "cell_type": "code",
   "execution_count": null,
   "metadata": {
    "colab": {
     "autoexec": {
      "startup": false,
      "wait_interval": 0
     }
    },
    "colab_type": "code",
    "collapsed": true,
    "id": "U10pHKZYsuPk"
   },
   "outputs": [],
   "source": [
    "# 가장 오래 집권한 왕순으로 정렬해 보고 상위 5개의 데이터만 본다.\n",
    "df_king.sort_values(by='period', ascending=False).head(5)"
   ]
  },
  {
   "cell_type": "code",
   "execution_count": null,
   "metadata": {
    "colab": {
     "autoexec": {
      "startup": false,
      "wait_interval": 0
     }
    },
    "colab_type": "code",
    "collapsed": true,
    "id": "qRQ6isGes-Xf"
   },
   "outputs": [],
   "source": [
    "# 평균값만 본다.\n",
    "df_king.mean()"
   ]
  },
  {
   "cell_type": "code",
   "execution_count": null,
   "metadata": {
    "colab": {
     "autoexec": {
      "startup": false,
      "wait_interval": 0
     }
    },
    "colab_type": "code",
    "collapsed": true,
    "id": "meNs10dntD4M"
   },
   "outputs": [],
   "source": [
    "# 표준편차만 본다.\n",
    "df_king.std()"
   ]
  },
  {
   "cell_type": "code",
   "execution_count": null,
   "metadata": {
    "colab": {
     "autoexec": {
      "startup": false,
      "wait_interval": 0
     }
    },
    "colab_type": "code",
    "collapsed": true,
    "id": "V_NNcznBtXfy"
   },
   "outputs": [],
   "source": [
    "# 최대값만 본다. 효종이 나온 이유는 한글 중에 가장 뒤에 있기 때문\n",
    "# life, period도 각 컬럼에서 최대값\n",
    "df_king.max()"
   ]
  },
  {
   "cell_type": "code",
   "execution_count": null,
   "metadata": {
    "colab": {
     "autoexec": {
      "startup": false,
      "wait_interval": 0
     }
    },
    "colab_type": "code",
    "collapsed": true,
    "id": "36aLsY9otcle"
   },
   "outputs": [],
   "source": [
    "df_king['period'].max()"
   ]
  },
  {
   "cell_type": "code",
   "execution_count": null,
   "metadata": {
    "colab": {
     "autoexec": {
      "startup": false,
      "wait_interval": 0
     }
    },
    "colab_type": "code",
    "collapsed": true,
    "id": "hOdI7ksoq-Ou"
   },
   "outputs": [],
   "source": [
    "df_king['life'].plot()"
   ]
  },
  {
   "cell_type": "code",
   "execution_count": null,
   "metadata": {
    "colab": {
     "autoexec": {
      "startup": false,
      "wait_interval": 0
     }
    },
    "colab_type": "code",
    "collapsed": true,
    "id": "HyLFCNoLpxtS"
   },
   "outputs": [],
   "source": [
    "df_king['life'].hist()"
   ]
  },
  {
   "cell_type": "code",
   "execution_count": null,
   "metadata": {
    "colab": {
     "autoexec": {
      "startup": false,
      "wait_interval": 0
     }
    },
    "colab_type": "code",
    "collapsed": true,
    "id": "jRsfMFhyqlmp"
   },
   "outputs": [],
   "source": [
    "df_king['period'].hist(stacked=True, bins=10)"
   ]
  },
  {
   "cell_type": "markdown",
   "metadata": {
    "colab_type": "text",
    "id": "VuBj0N6wpyox"
   },
   "source": [
    "# 타이타닉"
   ]
  },
  {
   "cell_type": "code",
   "execution_count": null,
   "metadata": {
    "colab": {
     "autoexec": {
      "startup": false,
      "wait_interval": 0
     }
    },
    "colab_type": "code",
    "collapsed": true,
    "id": "AIleTOPdlKra"
   },
   "outputs": [],
   "source": [
    "df_titanic = get_df('타이타닉')\n",
    "print(df_titanic.shape)\n",
    "# 상위 5개의 데이터를 가져옵니다.\n",
    "df_titanic.head()"
   ]
  },
  {
   "cell_type": "code",
   "execution_count": null,
   "metadata": {
    "colab": {
     "autoexec": {
      "startup": false,
      "wait_interval": 0
     }
    },
    "colab_type": "code",
    "collapsed": true,
    "id": "YKKFIPGQZ1Tt"
   },
   "outputs": [],
   "source": [
    "# 어떤 컬럼이 있는지 보여줍니다.\n",
    "df_titanic.columns"
   ]
  },
  {
   "cell_type": "code",
   "execution_count": null,
   "metadata": {
    "colab": {
     "autoexec": {
      "startup": false,
      "wait_interval": 0
     }
    },
    "colab_type": "code",
    "collapsed": true,
    "id": "AZa4ciw4l33E"
   },
   "outputs": [],
   "source": [
    "# 컬럼 정보를 보여줍니다.\n",
    "df_titanic.info()"
   ]
  },
  {
   "cell_type": "code",
   "execution_count": null,
   "metadata": {
    "colab": {
     "autoexec": {
      "startup": false,
      "wait_interval": 0
     }
    },
    "colab_type": "code",
    "collapsed": true,
    "id": "S-QZdW8Hl4Tf"
   },
   "outputs": [],
   "source": [
    "# 자료의 요약을 보여줍니다.\n",
    "df_titanic.describe()"
   ]
  },
  {
   "cell_type": "code",
   "execution_count": null,
   "metadata": {
    "colab": {
     "autoexec": {
      "startup": false,
      "wait_interval": 0
     }
    },
    "colab_type": "code",
    "collapsed": true,
    "id": "ql9I3BkkL23U"
   },
   "outputs": [],
   "source": [
    "df_titanic['Class'].value_counts()"
   ]
  },
  {
   "cell_type": "code",
   "execution_count": null,
   "metadata": {
    "colab": {
     "autoexec": {
      "startup": false,
      "wait_interval": 0
     }
    },
    "colab_type": "code",
    "collapsed": true,
    "id": "-EZ59H4PZNGT"
   },
   "outputs": [],
   "source": [
    "df_titanic['생존여부'].value_counts()"
   ]
  },
  {
   "cell_type": "markdown",
   "metadata": {
    "colab_type": "text",
    "id": "MpMJQ4-zXGhw"
   },
   "source": [
    "# 집 값 (추가)"
   ]
  },
  {
   "cell_type": "code",
   "execution_count": null,
   "metadata": {
    "colab": {
     "autoexec": {
      "startup": false,
      "wait_interval": 0
     }
    },
    "colab_type": "code",
    "collapsed": true,
    "id": "-GyG_SClXP77"
   },
   "outputs": [],
   "source": [
    "df_houseprice = get_df('집 값')\n",
    "# 상위 5개의 데이터를 가져옵니다.\n",
    "print(df_houseprice.shape)\n",
    "df_houseprice.head()"
   ]
  },
  {
   "cell_type": "code",
   "execution_count": null,
   "metadata": {
    "colab": {
     "autoexec": {
      "startup": false,
      "wait_interval": 0
     }
    },
    "colab_type": "code",
    "collapsed": true,
    "id": "ia0MY_o3X4Uq"
   },
   "outputs": [],
   "source": [
    "df_houseprice.describe()"
   ]
  },
  {
   "cell_type": "code",
   "execution_count": null,
   "metadata": {
    "colab": {
     "autoexec": {
      "startup": false,
      "wait_interval": 0
     }
    },
    "colab_type": "code",
    "collapsed": true,
    "id": "ypsXxs77YJCe"
   },
   "outputs": [],
   "source": [
    "# 데이터 타입을 float로 변경해 준다.\n",
    "df_houseprice['주택가격'] = df_houseprice['주택가격'].astype(float)\n",
    "# 위와 describe() 했을 때의 정보가 다르다. \n",
    "# 수치형 데이터 일 때 count, mean, std, min/max, 사분위수를 보여준다.\n",
    "df_houseprice.describe()"
   ]
  },
  {
   "cell_type": "code",
   "execution_count": null,
   "metadata": {
    "colab": {
     "autoexec": {
      "startup": false,
      "wait_interval": 0
     }
    },
    "colab_type": "code",
    "collapsed": true,
    "id": "6uwkcnxtFSY3"
   },
   "outputs": [],
   "source": [
    "# 평균은?\n",
    "\n",
    "df_houseprice.mean()"
   ]
  },
  {
   "cell_type": "code",
   "execution_count": null,
   "metadata": {
    "colab": {
     "autoexec": {
      "startup": false,
      "wait_interval": 0
     }
    },
    "colab_type": "code",
    "collapsed": true,
    "id": "BknQiBs2Fo19"
   },
   "outputs": [],
   "source": [
    "# 도심/외곽을 나눠서 각 그룹별 평균을 구하려면?\n",
    "\n",
    "df_houseprice.groupby('도심&외각').mean()"
   ]
  },
  {
   "cell_type": "code",
   "execution_count": null,
   "metadata": {
    "colab": {
     "autoexec": {
      "startup": false,
      "wait_interval": 0
     }
    },
    "colab_type": "code",
    "collapsed": true,
    "id": "kmfjXMBbY0o9"
   },
   "outputs": [],
   "source": [
    "# 가장 집값이 비싼 순서로 정렬해 보고 상위 5개의 데이터만 본다.\n",
    "df_houseprice.sort_values(by='주택가격', ascending=False).head(5)"
   ]
  },
  {
   "cell_type": "code",
   "execution_count": null,
   "metadata": {
    "colab": {
     "autoexec": {
      "startup": false,
      "wait_interval": 0
     }
    },
    "colab_type": "code",
    "collapsed": true,
    "id": "4fETszgmZSzl"
   },
   "outputs": [],
   "source": [
    "df_houseprice['주택가격'].plot()"
   ]
  },
  {
   "cell_type": "code",
   "execution_count": null,
   "metadata": {
    "colab": {
     "autoexec": {
      "startup": false,
      "wait_interval": 0
     }
    },
    "colab_type": "code",
    "collapsed": true,
    "id": "6fxgbvHvZj_9"
   },
   "outputs": [],
   "source": [
    "df_houseprice['주택가격'].hist()"
   ]
  },
  {
   "cell_type": "code",
   "execution_count": null,
   "metadata": {
    "colab": {
     "autoexec": {
      "startup": false,
      "wait_interval": 0
     }
    },
    "colab_type": "code",
    "collapsed": true,
    "id": "_z8OKxWiE7zV"
   },
   "outputs": [],
   "source": [
    "# stacked = True (데이터를 쌓아 올림)\n",
    "# bins = 15 (데이터를 상자 15개에 나눠 담아서 그림)\n",
    "\n",
    "df_houseprice['주택가격'].hist(stacked = True, bins = 15)"
   ]
  },
  {
   "cell_type": "markdown",
   "metadata": {
    "colab_type": "text",
    "id": "AZnnJOFGIiML"
   },
   "source": [
    "# 포유류 (추가)"
   ]
  },
  {
   "cell_type": "code",
   "execution_count": null,
   "metadata": {
    "colab": {
     "autoexec": {
      "startup": false,
      "wait_interval": 0
     }
    },
    "colab_type": "code",
    "collapsed": true,
    "id": "Tt024WulGcCU"
   },
   "outputs": [],
   "source": [
    "# 데이터 가져오기\n",
    "df_mammals = get_df('포유류')"
   ]
  },
  {
   "cell_type": "code",
   "execution_count": null,
   "metadata": {
    "colab": {
     "autoexec": {
      "startup": false,
      "wait_interval": 0
     }
    },
    "colab_type": "code",
    "collapsed": true,
    "id": "TdafyOYyLRzW"
   },
   "outputs": [],
   "source": [
    "# 데이터 형 변환(type conversion)\n",
    "df_mammals['몸무게'] = df_mammals['몸무게'].astype(float)\n",
    "df_mammals['뇌무게'] = df_mammals['뇌무게'].astype(float)"
   ]
  },
  {
   "cell_type": "code",
   "execution_count": null,
   "metadata": {
    "colab": {
     "autoexec": {
      "startup": false,
      "wait_interval": 0
     }
    },
    "colab_type": "code",
    "collapsed": true,
    "id": "02r4dzGOLsLT"
   },
   "outputs": [],
   "source": [
    "# 데이터 요약\n",
    "df_mammals.describe()"
   ]
  },
  {
   "cell_type": "code",
   "execution_count": null,
   "metadata": {
    "colab": {
     "autoexec": {
      "startup": false,
      "wait_interval": 0
     }
    },
    "colab_type": "code",
    "collapsed": true,
    "id": "7j-DwpZzLz6V"
   },
   "outputs": [],
   "source": [
    "# 몸무게 / 뇌무게 각각의 평균은?\n",
    "df_mammals[['몸무게', '뇌무게']].mean()"
   ]
  },
  {
   "cell_type": "code",
   "execution_count": null,
   "metadata": {
    "colab": {
     "autoexec": {
      "startup": false,
      "wait_interval": 0
     }
    },
    "colab_type": "code",
    "collapsed": true,
    "id": "Cd4H1uI2NQH9"
   },
   "outputs": [],
   "source": [
    "df_mammals['몸무게'].plot()"
   ]
  },
  {
   "cell_type": "code",
   "execution_count": null,
   "metadata": {
    "colab": {
     "autoexec": {
      "startup": false,
      "wait_interval": 0
     }
    },
    "colab_type": "code",
    "collapsed": true,
    "id": "avNyEDGlN7zm"
   },
   "outputs": [],
   "source": [
    "df_mammals['뇌무게'].hist()"
   ]
  },
  {
   "cell_type": "code",
   "execution_count": null,
   "metadata": {
    "colab": {
     "autoexec": {
      "startup": false,
      "wait_interval": 0
     }
    },
    "colab_type": "code",
    "collapsed": true,
    "id": "OZfsMPPlFSL8"
   },
   "outputs": [],
   "source": [
    "df_mammals['뇌무게'].hist(stacked = False, bins = 10)"
   ]
  }
 ],
 "metadata": {
  "colab": {
   "collapsed_sections": [],
   "default_view": {},
   "name": "20180713_자료의 요약과 Pandas 예제.ipynb",
   "private_outputs": true,
   "provenance": [
    {
     "file_id": "1-pkHko3PvG4rxUbupr-vAaOhVYAVSTIp",
     "timestamp": 1531235260405
    }
   ],
   "version": "0.3.2",
   "views": {}
  },
  "kernelspec": {
   "display_name": "Python 3",
   "language": "python",
   "name": "python3"
  },
  "language_info": {
   "codemirror_mode": {
    "name": "ipython",
    "version": 3
   },
   "file_extension": ".py",
   "mimetype": "text/x-python",
   "name": "python",
   "nbconvert_exporter": "python",
   "pygments_lexer": "ipython3",
   "version": "3.6.1"
  }
 },
 "nbformat": 4,
 "nbformat_minor": 1
}
